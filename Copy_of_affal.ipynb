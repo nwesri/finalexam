{
  "cells": [
    {
      "cell_type": "markdown",
      "metadata": {
        "id": "view-in-github",
        "colab_type": "text"
      },
      "source": [
        "<a href=\"https://colab.research.google.com/github/nwesri/finalexam/blob/master/Copy_of_affal.ipynb\" target=\"_parent\"><img src=\"https://colab.research.google.com/assets/colab-badge.svg\" alt=\"Open In Colab\"/></a>"
      ]
    },
    {
      "cell_type": "code",
      "execution_count": 890,
      "metadata": {
        "id": "7Csj7gVhyl2o"
      },
      "outputs": [],
      "source": [
        "import io\n",
        "import re\n",
        "from nltk.corpus import stopwords\n",
        "from nltk.stem.isri import ISRIStemmer\n",
        "import re\n",
        "import pandas as pd\n",
        "import numpy as np\n",
        "import matplotlib.pyplot as plt\n",
        "import seaborn as sns\n",
        "\n",
        "\n",
        "from sklearn.feature_extraction.text import CountVectorizer, TfidfVectorizer\n",
        "from sklearn.metrics import accuracy_score\n",
        "from sklearn.metrics import r2_score\n",
        "from sklearn.preprocessing import LabelEncoder\n",
        "from sklearn import preprocessing\n",
        "\n",
        "from sklearn.metrics import (\n",
        "    confusion_matrix,\n",
        "    accuracy_score,\n",
        "    precision_score,\n",
        "    recall_score,\n",
        "    f1_score\n",
        ")\n",
        "#from sklearn.metrics import plot_confusion_matrix\n",
        "from sklearn.metrics import classification_report\n",
        "from sklearn.model_selection import train_test_split\n"
      ]
    },
    {
      "cell_type": "code",
      "execution_count": 891,
      "metadata": {
        "colab": {
          "base_uri": "https://localhost:8080/"
        },
        "id": "vqEMdAKmy3Bu",
        "outputId": "5e97942e-9bc1-4fa2-f7b2-1efff4579c42"
      },
      "outputs": [
        {
          "output_type": "stream",
          "name": "stdout",
          "text": [
            "(4711, 2)\n"
          ]
        }
      ],
      "source": [
        "#file = open('C:/Users/showroom/Desktop/storyout5.csv', \"r\")\n",
        "df1 = pd.read_csv('/content/drive/MyDrive/verbs/storyout54 2.csv' )\n",
        "df2 = pd.read_csv('/content/drive/MyDrive/verbs/verbs1.csv' )\n",
        "df = df1 #pd.concat([df1, df2])\n",
        "print(df.shape)\n",
        "\n"
      ]
    },
    {
      "cell_type": "markdown",
      "source": [
        "# New Section"
      ],
      "metadata": {
        "id": "zemoNjEIIVh7"
      }
    },
    {
      "cell_type": "code",
      "execution_count": 892,
      "metadata": {
        "colab": {
          "base_uri": "https://localhost:8080/"
        },
        "id": "eDhtvvpmzBAz",
        "outputId": "751f285f-0844-48dd-b336-d5c8e6184764"
      },
      "outputs": [
        {
          "output_type": "stream",
          "name": "stdout",
          "text": [
            "(4711, 2)\n"
          ]
        }
      ],
      "source": [
        "df['type'] = df['type'].astype(\"Int64\")\n",
        "#df.head(10)\n",
        "print(df.shape)\n"
      ]
    },
    {
      "cell_type": "code",
      "source": [
        "import pandas as scores\n",
        "measures = ({\n",
        "    'Algorithm':[],\n",
        "    'Accuracy' :[],\n",
        "    'Precision':[],\n",
        "    'Recall':[],\n",
        "    'F1':[]\n",
        "               })\n",
        "scores = scores.DataFrame(measures)\n",
        "print(scores)"
      ],
      "metadata": {
        "colab": {
          "base_uri": "https://localhost:8080/"
        },
        "id": "7exbDLWFCOGH",
        "outputId": "8d205bd2-3f1f-4707-be20-1033cb510851"
      },
      "execution_count": 893,
      "outputs": [
        {
          "output_type": "stream",
          "name": "stdout",
          "text": [
            "Empty DataFrame\n",
            "Columns: [Algorithm, Accuracy, Precision, Recall, F1]\n",
            "Index: []\n"
          ]
        }
      ]
    },
    {
      "cell_type": "code",
      "execution_count": 894,
      "metadata": {
        "id": "wcC1432vzHuE"
      },
      "outputs": [],
      "source": [
        "def clean_text(text):\n",
        "    #text = re.sub(\"[ا-ي]+@\",\"\",text) #Remove @ sign\n",
        "    text = re.sub(\"[^ء-ي]\",\" \",text) #Remove any non Arabic characters leaving space\n",
        "\n",
        "    #text = text.replace(\"ـ\", \"\") #Remove arabic Kashida\n",
        "    text = text.replace(\"ٌ\", \"\") #Remove arabic Kashida\n",
        "    text = text.replace(\"ُ\", \"\") #Remove arabic Kashida\n",
        "    text = text.replace(\"ً\", \"\") #Remove arabic Kashida\n",
        "    text = text.replace(\"َ\", \"\") #Remove arabic Kashida\n",
        "    text = text.replace(\"ّ\", \"\") #Remove arabic Kashida\n",
        "    text = text.replace(\"ِ\", \"\") #Remove arabic Kashida\n",
        "    text = text.replace(\"ٍ\", \"\") #Remove arabic Kashida\n",
        "    text = text.replace(\"ْ\", \"\") #Remove arabic Kashida\n",
        "    #text = text.replace(\"\", \"\") #Remove arabic Kashida\n",
        "    text = text.replace(\"'\", \"\") #Remove arabic Kashida\n",
        "    text = text.replace(\"أ\", \"ا\") # Deal with Hamza\n",
        "    text = text.replace(\"آ\", \"ا\") # Deal with Hamza\n",
        "    text = text.replace(\"إ\", \"ا\") # Deal with Hamza\n",
        "    text = text.replace(\"ة \", \"ه \") #Replae final Taa Marbota with Taa Marbota plus space\n",
        "    text = text.replace(\"ي \", \" \") #Replae final yaa\n",
        "    text = text.replace(\"ي \", \"ى \") #Replace\n",
        "    text = text[:-1]+'ى' if text[-1:] == 'ي' else text\n",
        "    text = text[:-1]+'ه' if text[-1:] == 'ة' else text\n",
        "    text = text[:-2] if text[-2:] == 'ها' else text\n",
        "\n",
        "\n",
        "\n",
        "\n",
        "    return text"
      ]
    },
    {
      "cell_type": "code",
      "source": [
        "def stem_verbs(text):\n",
        "\n",
        "    #text = re.sub(\"[ا-ي]+@\",\"\",text) #Remove @ sign\n",
        "    text = re.sub(r'(ت|ها|وا|هم|كم|نا|ه|ك)\\b', '', text)\n",
        "\n",
        "    #text = re.sub(\"[ت|ها|هم|كم|نا|ه|ك]\",\"\",text) #Remove any non Arabic characters leaving space\n",
        "#    text = text[:-1]+'ى' if text[-1:] == 'ي' else text\n",
        "#    text = text[:-2] if text[-2:] == 'ها' else text\n",
        "\n",
        "\n",
        "\n",
        "\n",
        "    return text\n",
        "\n"
      ],
      "metadata": {
        "id": "Bhn5R6HzCVtY"
      },
      "execution_count": 895,
      "outputs": []
    },
    {
      "cell_type": "code",
      "execution_count": 896,
      "metadata": {
        "colab": {
          "base_uri": "https://localhost:8080/",
          "height": 683
        },
        "id": "04d9LyX0zL6e",
        "outputId": "04219a40-c40a-47a1-857f-e6106b19c056"
      },
      "outputs": [
        {
          "output_type": "stream",
          "name": "stdout",
          "text": [
            "(3834, 2)\n"
          ]
        },
        {
          "output_type": "stream",
          "name": "stderr",
          "text": [
            "<ipython-input-896-6aff05819418>:8: SettingWithCopyWarning: \n",
            "A value is trying to be set on a copy of a slice from a DataFrame.\n",
            "Try using .loc[row_indexer,col_indexer] = value instead\n",
            "\n",
            "See the caveats in the documentation: https://pandas.pydata.org/pandas-docs/stable/user_guide/indexing.html#returning-a-view-versus-a-copy\n",
            "  df['word'] = le.fit_transform(df['word'])\n",
            "<ipython-input-896-6aff05819418>:9: SettingWithCopyWarning: \n",
            "A value is trying to be set on a copy of a slice from a DataFrame.\n",
            "Try using .loc[row_indexer,col_indexer] = value instead\n",
            "\n",
            "See the caveats in the documentation: https://pandas.pydata.org/pandas-docs/stable/user_guide/indexing.html#returning-a-view-versus-a-copy\n",
            "  df['type'] = le.fit_transform(df['type'].astype('Int64'))\n"
          ]
        },
        {
          "output_type": "execute_result",
          "data": {
            "text/plain": [
              "      word  type\n",
              "0        2     1\n",
              "2      348     0\n",
              "5        5     1\n",
              "8        6     1\n",
              "9        7     1\n",
              "...    ...   ...\n",
              "4702  3829     1\n",
              "4707  3830     0\n",
              "4708  3831     0\n",
              "4709     1     0\n",
              "4710  3833     1\n",
              "\n",
              "[3834 rows x 2 columns]"
            ],
            "text/html": [
              "\n",
              "  <div id=\"df-819529b8-3d24-4800-b533-87e0641016e1\">\n",
              "    <div class=\"colab-df-container\">\n",
              "      <div>\n",
              "<style scoped>\n",
              "    .dataframe tbody tr th:only-of-type {\n",
              "        vertical-align: middle;\n",
              "    }\n",
              "\n",
              "    .dataframe tbody tr th {\n",
              "        vertical-align: top;\n",
              "    }\n",
              "\n",
              "    .dataframe thead th {\n",
              "        text-align: right;\n",
              "    }\n",
              "</style>\n",
              "<table border=\"1\" class=\"dataframe\">\n",
              "  <thead>\n",
              "    <tr style=\"text-align: right;\">\n",
              "      <th></th>\n",
              "      <th>word</th>\n",
              "      <th>type</th>\n",
              "    </tr>\n",
              "  </thead>\n",
              "  <tbody>\n",
              "    <tr>\n",
              "      <th>0</th>\n",
              "      <td>2</td>\n",
              "      <td>1</td>\n",
              "    </tr>\n",
              "    <tr>\n",
              "      <th>2</th>\n",
              "      <td>348</td>\n",
              "      <td>0</td>\n",
              "    </tr>\n",
              "    <tr>\n",
              "      <th>5</th>\n",
              "      <td>5</td>\n",
              "      <td>1</td>\n",
              "    </tr>\n",
              "    <tr>\n",
              "      <th>8</th>\n",
              "      <td>6</td>\n",
              "      <td>1</td>\n",
              "    </tr>\n",
              "    <tr>\n",
              "      <th>9</th>\n",
              "      <td>7</td>\n",
              "      <td>1</td>\n",
              "    </tr>\n",
              "    <tr>\n",
              "      <th>...</th>\n",
              "      <td>...</td>\n",
              "      <td>...</td>\n",
              "    </tr>\n",
              "    <tr>\n",
              "      <th>4702</th>\n",
              "      <td>3829</td>\n",
              "      <td>1</td>\n",
              "    </tr>\n",
              "    <tr>\n",
              "      <th>4707</th>\n",
              "      <td>3830</td>\n",
              "      <td>0</td>\n",
              "    </tr>\n",
              "    <tr>\n",
              "      <th>4708</th>\n",
              "      <td>3831</td>\n",
              "      <td>0</td>\n",
              "    </tr>\n",
              "    <tr>\n",
              "      <th>4709</th>\n",
              "      <td>1</td>\n",
              "      <td>0</td>\n",
              "    </tr>\n",
              "    <tr>\n",
              "      <th>4710</th>\n",
              "      <td>3833</td>\n",
              "      <td>1</td>\n",
              "    </tr>\n",
              "  </tbody>\n",
              "</table>\n",
              "<p>3834 rows × 2 columns</p>\n",
              "</div>\n",
              "      <button class=\"colab-df-convert\" onclick=\"convertToInteractive('df-819529b8-3d24-4800-b533-87e0641016e1')\"\n",
              "              title=\"Convert this dataframe to an interactive table.\"\n",
              "              style=\"display:none;\">\n",
              "        \n",
              "  <svg xmlns=\"http://www.w3.org/2000/svg\" height=\"24px\"viewBox=\"0 0 24 24\"\n",
              "       width=\"24px\">\n",
              "    <path d=\"M0 0h24v24H0V0z\" fill=\"none\"/>\n",
              "    <path d=\"M18.56 5.44l.94 2.06.94-2.06 2.06-.94-2.06-.94-.94-2.06-.94 2.06-2.06.94zm-11 1L8.5 8.5l.94-2.06 2.06-.94-2.06-.94L8.5 2.5l-.94 2.06-2.06.94zm10 10l.94 2.06.94-2.06 2.06-.94-2.06-.94-.94-2.06-.94 2.06-2.06.94z\"/><path d=\"M17.41 7.96l-1.37-1.37c-.4-.4-.92-.59-1.43-.59-.52 0-1.04.2-1.43.59L10.3 9.45l-7.72 7.72c-.78.78-.78 2.05 0 2.83L4 21.41c.39.39.9.59 1.41.59.51 0 1.02-.2 1.41-.59l7.78-7.78 2.81-2.81c.8-.78.8-2.07 0-2.86zM5.41 20L4 18.59l7.72-7.72 1.47 1.35L5.41 20z\"/>\n",
              "  </svg>\n",
              "      </button>\n",
              "      \n",
              "  <style>\n",
              "    .colab-df-container {\n",
              "      display:flex;\n",
              "      flex-wrap:wrap;\n",
              "      gap: 12px;\n",
              "    }\n",
              "\n",
              "    .colab-df-convert {\n",
              "      background-color: #E8F0FE;\n",
              "      border: none;\n",
              "      border-radius: 50%;\n",
              "      cursor: pointer;\n",
              "      display: none;\n",
              "      fill: #1967D2;\n",
              "      height: 32px;\n",
              "      padding: 0 0 0 0;\n",
              "      width: 32px;\n",
              "    }\n",
              "\n",
              "    .colab-df-convert:hover {\n",
              "      background-color: #E2EBFA;\n",
              "      box-shadow: 0px 1px 2px rgba(60, 64, 67, 0.3), 0px 1px 3px 1px rgba(60, 64, 67, 0.15);\n",
              "      fill: #174EA6;\n",
              "    }\n",
              "\n",
              "    [theme=dark] .colab-df-convert {\n",
              "      background-color: #3B4455;\n",
              "      fill: #D2E3FC;\n",
              "    }\n",
              "\n",
              "    [theme=dark] .colab-df-convert:hover {\n",
              "      background-color: #434B5C;\n",
              "      box-shadow: 0px 1px 3px 1px rgba(0, 0, 0, 0.15);\n",
              "      filter: drop-shadow(0px 1px 2px rgba(0, 0, 0, 0.3));\n",
              "      fill: #FFFFFF;\n",
              "    }\n",
              "  </style>\n",
              "\n",
              "      <script>\n",
              "        const buttonEl =\n",
              "          document.querySelector('#df-819529b8-3d24-4800-b533-87e0641016e1 button.colab-df-convert');\n",
              "        buttonEl.style.display =\n",
              "          google.colab.kernel.accessAllowed ? 'block' : 'none';\n",
              "\n",
              "        async function convertToInteractive(key) {\n",
              "          const element = document.querySelector('#df-819529b8-3d24-4800-b533-87e0641016e1');\n",
              "          const dataTable =\n",
              "            await google.colab.kernel.invokeFunction('convertToInteractive',\n",
              "                                                     [key], {});\n",
              "          if (!dataTable) return;\n",
              "\n",
              "          const docLinkHtml = 'Like what you see? Visit the ' +\n",
              "            '<a target=\"_blank\" href=https://colab.research.google.com/notebooks/data_table.ipynb>data table notebook</a>'\n",
              "            + ' to learn more about interactive tables.';\n",
              "          element.innerHTML = '';\n",
              "          dataTable['output_type'] = 'display_data';\n",
              "          await google.colab.output.renderOutput(dataTable, element);\n",
              "          const docLink = document.createElement('div');\n",
              "          docLink.innerHTML = docLinkHtml;\n",
              "          element.appendChild(docLink);\n",
              "        }\n",
              "      </script>\n",
              "    </div>\n",
              "  </div>\n",
              "  "
            ]
          },
          "metadata": {},
          "execution_count": 896
        }
      ],
      "source": [
        "df['word'] = df['word'].apply(clean_text)\n",
        "df['word'] = df['word'].apply(stem_verbs)\n",
        "#st = ISRIStemmer()\n",
        "#df['word'] = df['word'].apply(lambda x: st.stem(x))\n",
        "df = df.drop_duplicates(['word'], keep='last')\n",
        "\n",
        "le = preprocessing.LabelEncoder()\n",
        "df['word'] = le.fit_transform(df['word'])\n",
        "df['type'] = le.fit_transform(df['type'].astype('Int64'))\n",
        "\n",
        "x = df['word']\n",
        "y = df['type']\n",
        "x_train, x_test, y_train, y_test = train_test_split(x ,y , test_size=0.2)\n",
        "le.fit(x_train.astype(str))\n",
        "x_train = le.fit_transform(x_train)\n",
        "x_train = x_train.reshape(-1, 1)\n",
        "le.fit(y_train)\n",
        "y_train= le.fit_transform(y_train)\n",
        "y_train = y_train.reshape(-1, 1)\n",
        "x_test = x_test.values.reshape(-1, 1)\n",
        "\n",
        "\n",
        "print(df.shape)\n",
        "df"
      ]
    },
    {
      "cell_type": "code",
      "source": [
        "def plot_measure(algorithm,y_pred):\n",
        "\n",
        "    conf_matrix = confusion_matrix(y_test, y_pred)\n",
        "    conf_matrix\n",
        "\n",
        "\n",
        "    #plt.figure(figsize=(8,8))\n",
        "    #sns.set(font_scale = 1.5)\n",
        "\n",
        "    #ax = sns.heatmap(\n",
        "     #   conf_matrix, # confusion matrix 2D array\n",
        "     #   annot=True, # show numbers in the cells\n",
        "     #   fmt='d', # show numbers as integers\n",
        "     #   cbar=False, # don't show the color bar\n",
        "     #   cmap='flag', # customize color map\n",
        "     #   vmax=175 # to get better color contrast\n",
        "    #)\n",
        "\n",
        "    #ax.set_xlabel(\"Predicted\", labelpad=20)\n",
        "    #ax.set_ylabel(\"Actual\", labelpad=20)\n",
        "    #plt.show()\n",
        "\n",
        "    accuracy = round(accuracy_score(y_test, y_pred),3)\n",
        "    precision = round(precision_score(y_test, y_pred),3)\n",
        "    recall = round(recall_score(y_test, y_pred),3)\n",
        "    f1score = round(f1_score(y_test, y_pred, average='macro'),3)\n",
        "\n",
        "\n",
        "    list_row = [algorithm, accuracy, precision, recall, f1score]\n",
        "    scores.loc[len(scores)] = list_row\n",
        "\n",
        "\n",
        "\n",
        "    print(f\"Accuracy = {accuracy}\")\n",
        "    print(f\"Precision = {precision}\")\n",
        "    print(f\"Recall = {recall}\")\n",
        "    print(f\"F1 Score = {f1score}\")"
      ],
      "metadata": {
        "id": "9L78c5MQmmnl"
      },
      "execution_count": 897,
      "outputs": []
    },
    {
      "cell_type": "markdown",
      "source": [
        "# Logistec Regression"
      ],
      "metadata": {
        "id": "yRlSS5diomjP"
      }
    },
    {
      "cell_type": "code",
      "execution_count": 898,
      "metadata": {
        "id": "nwoCuOOUzUpw",
        "colab": {
          "base_uri": "https://localhost:8080/"
        },
        "outputId": "4f862b59-9c08-4975-e444-f0906e2a674a"
      },
      "outputs": [
        {
          "output_type": "stream",
          "name": "stdout",
          "text": [
            "Accuracy = 0.516\n",
            "Precision = 0.444\n",
            "Recall = 0.623\n",
            "F1 Score = 0.516\n"
          ]
        },
        {
          "output_type": "stream",
          "name": "stderr",
          "text": [
            "/usr/local/lib/python3.10/dist-packages/sklearn/utils/validation.py:1143: DataConversionWarning: A column-vector y was passed when a 1d array was expected. Please change the shape of y to (n_samples, ), for example using ravel().\n",
            "  y = column_or_1d(y, warn=True)\n"
          ]
        }
      ],
      "source": [
        "from sklearn.linear_model import LogisticRegression\n",
        "model = LogisticRegression(solver='liblinear', class_weight='balanced')\n",
        "#model = LogisticRegression(\n",
        "#    solver='liblinear',\n",
        "#    class_weight='balanced' # handle imbalanced classes\n",
        "#)\n",
        "model.fit(x_train, y_train)\n",
        "y_pred = model.predict(x_test)\n",
        "\n",
        "plot_measure(\"Logistec Regression\",y_pred)\n"
      ]
    },
    {
      "cell_type": "markdown",
      "source": [
        "\n",
        "# Decision Tree\n"
      ],
      "metadata": {
        "id": "UIxp99G-oWOd"
      }
    },
    {
      "cell_type": "code",
      "source": [
        "from sklearn.tree import DecisionTreeClassifier\n",
        "classifier = DecisionTreeClassifier(criterion = 'entropy', random_state = 0)\n",
        "classifier.fit(x_train, y_train)\n",
        "\n",
        "#predicting the test set results\n",
        "y_pred = classifier.predict(x_test)    #vector of predictions-of each of test set observation\n",
        "\n",
        "plot_measure(\"Decision Tree\",y_pred)"
      ],
      "metadata": {
        "colab": {
          "base_uri": "https://localhost:8080/"
        },
        "id": "ikNMyFqoiVzV",
        "outputId": "b63cc94a-4389-41fe-d94b-2ae9fa435d3c"
      },
      "execution_count": 899,
      "outputs": [
        {
          "output_type": "stream",
          "name": "stdout",
          "text": [
            "Accuracy = 0.587\n",
            "Precision = 0.505\n",
            "Recall = 0.623\n",
            "F1 Score = 0.585\n"
          ]
        }
      ]
    },
    {
      "cell_type": "markdown",
      "source": [
        "# naive bayes"
      ],
      "metadata": {
        "id": "DNI1_b_ZoNxF"
      }
    },
    {
      "cell_type": "code",
      "source": [
        "from sklearn.naive_bayes import GaussianNB\n",
        "classifier = GaussianNB()\n",
        "classifier.fit(x_train, y_train)\n",
        "\n",
        "# Predicting the Test set results\n",
        "y_pred = classifier.predict(x_test)\n",
        "\n",
        "plot_measure(\"Naive Bayes\",y_pred)"
      ],
      "metadata": {
        "colab": {
          "base_uri": "https://localhost:8080/"
        },
        "id": "iQJz5vFbixuD",
        "outputId": "889dff06-2469-42af-96bd-23e88844469c"
      },
      "execution_count": 900,
      "outputs": [
        {
          "output_type": "stream",
          "name": "stdout",
          "text": [
            "Accuracy = 0.596\n",
            "Precision = 0.525\n",
            "Recall = 0.364\n",
            "F1 Score = 0.559\n"
          ]
        },
        {
          "output_type": "stream",
          "name": "stderr",
          "text": [
            "/usr/local/lib/python3.10/dist-packages/sklearn/utils/validation.py:1143: DataConversionWarning: A column-vector y was passed when a 1d array was expected. Please change the shape of y to (n_samples, ), for example using ravel().\n",
            "  y = column_or_1d(y, warn=True)\n"
          ]
        }
      ]
    },
    {
      "cell_type": "markdown",
      "source": [
        "## Neighborhood Classifier"
      ],
      "metadata": {
        "id": "cHA0Ik45nsYY"
      }
    },
    {
      "cell_type": "code",
      "source": [
        "from sklearn.neighbors import KNeighborsClassifier\n",
        "classifier = KNeighborsClassifier(n_neighbors = 5, metric = 'minkowski', p = 2)#for euclidean dist,choose minkowski power=2\n",
        "classifier.fit(x_train,y_train)\n",
        "\n",
        "# Predicting the Test set results\n",
        "y_pred = classifier.predict(x_test)\n",
        "\n",
        "plot_measure(\"Neighborhood Classifier\", y_pred)"
      ],
      "metadata": {
        "colab": {
          "base_uri": "https://localhost:8080/"
        },
        "id": "OHSAPKW0dr6P",
        "outputId": "43345efb-609c-458f-c87d-69388b7538a3"
      },
      "execution_count": 901,
      "outputs": [
        {
          "output_type": "stream",
          "name": "stdout",
          "text": [
            "Accuracy = 0.576\n",
            "Precision = 0.495\n",
            "Recall = 0.617\n",
            "F1 Score = 0.575\n"
          ]
        },
        {
          "output_type": "stream",
          "name": "stderr",
          "text": [
            "/usr/local/lib/python3.10/dist-packages/sklearn/neighbors/_classification.py:215: DataConversionWarning: A column-vector y was passed when a 1d array was expected. Please change the shape of y to (n_samples,), for example using ravel().\n",
            "  return self._fit(X, y)\n"
          ]
        }
      ]
    },
    {
      "cell_type": "markdown",
      "source": [
        "# SVC"
      ],
      "metadata": {
        "id": "GJT_r_yQowsP"
      }
    },
    {
      "cell_type": "code",
      "source": [
        "from sklearn.preprocessing import StandardScaler\n",
        "sc = StandardScaler()\n",
        "x_train = sc.fit_transform(x_train)\n",
        "x_test = sc.transform(x_test)\n",
        "\n",
        "# Fitting classifier to the Training set\n",
        "from sklearn.svm import SVC\n",
        "#classifier = SVC(kernel = 'linear', random_state = 0)\n",
        "classifier = SVC(kernel = 'rbf', random_state = 0) #rbf is gaussian kernel\n",
        "classifier.fit(x_train,y_train)\n",
        "\n",
        "# Predicting the Test set results\n",
        "y_pred = classifier.predict(x_test)\n",
        "\n",
        "f1score = f1_score(y_test, y_pred)\n",
        "#f1score\n",
        "plot_measure(\"SVC\",y_pred)"
      ],
      "metadata": {
        "colab": {
          "base_uri": "https://localhost:8080/"
        },
        "outputId": "419b2bce-7327-4174-9462-c5de62d94fb5",
        "id": "KALWy6mUl0is"
      },
      "execution_count": 902,
      "outputs": [
        {
          "output_type": "stream",
          "name": "stderr",
          "text": [
            "/usr/local/lib/python3.10/dist-packages/sklearn/utils/validation.py:1143: DataConversionWarning: A column-vector y was passed when a 1d array was expected. Please change the shape of y to (n_samples, ), for example using ravel().\n",
            "  y = column_or_1d(y, warn=True)\n"
          ]
        },
        {
          "output_type": "stream",
          "name": "stdout",
          "text": [
            "Accuracy = 0.626\n",
            "Precision = 0.569\n",
            "Recall = 0.436\n",
            "F1 Score = 0.599\n"
          ]
        }
      ]
    },
    {
      "cell_type": "markdown",
      "source": [
        "# Random Forest Classifier"
      ],
      "metadata": {
        "id": "1mprpD8so9EF"
      }
    },
    {
      "cell_type": "code",
      "source": [
        "from sklearn.preprocessing import StandardScaler\n",
        "sc = StandardScaler()\n",
        "x_train = sc.fit_transform(x_train)\n",
        "x_test = sc.transform(x_test)\n",
        "\n",
        "# Fitting classifier to the Training set\n",
        "from sklearn.ensemble import RandomForestClassifier\n",
        "classifier = RandomForestClassifier(n_estimators = 10, criterion= 'entropy', random_state = 0)\n",
        "classifier.fit(x_train,y_train)\n",
        "\n",
        "# Predicting the Test set results\n",
        "y_pred = classifier.predict(x_test)\n",
        "\n",
        "plot_measure(\"Random Forest\",y_pred)\n"
      ],
      "metadata": {
        "colab": {
          "base_uri": "https://localhost:8080/"
        },
        "outputId": "a37c0468-5944-4a77-f56e-0c4abbdf66ec",
        "id": "wtkqUWaal4cQ"
      },
      "execution_count": 903,
      "outputs": [
        {
          "output_type": "stream",
          "name": "stdout",
          "text": [
            "Accuracy = 0.581\n",
            "Precision = 0.5\n",
            "Recall = 0.604\n",
            "F1 Score = 0.579\n"
          ]
        },
        {
          "output_type": "stream",
          "name": "stderr",
          "text": [
            "<ipython-input-903-ef6cea408034>:9: DataConversionWarning: A column-vector y was passed when a 1d array was expected. Please change the shape of y to (n_samples,), for example using ravel().\n",
            "  classifier.fit(x_train,y_train)\n"
          ]
        }
      ]
    },
    {
      "cell_type": "code",
      "source": [
        "scores"
      ],
      "metadata": {
        "colab": {
          "base_uri": "https://localhost:8080/",
          "height": 238
        },
        "id": "FvKSPDNZFEg2",
        "outputId": "04cefd9d-06c1-4f86-80db-258cd883db75"
      },
      "execution_count": 904,
      "outputs": [
        {
          "output_type": "execute_result",
          "data": {
            "text/plain": [
              "                 Algorithm  Accuracy  Precision  Recall     F1\n",
              "0      Logistec Regression     0.516      0.444   0.623  0.516\n",
              "1            Decision Tree     0.587      0.505   0.623  0.585\n",
              "2              Naive Bayes     0.596      0.525   0.364  0.559\n",
              "3  Neighborhood Classifier     0.576      0.495   0.617  0.575\n",
              "4                      SVC     0.626      0.569   0.436  0.599\n",
              "5            Random Forest     0.581      0.500   0.604  0.579"
            ],
            "text/html": [
              "\n",
              "  <div id=\"df-3a904655-887b-49d2-9dfb-89eee0765c9c\">\n",
              "    <div class=\"colab-df-container\">\n",
              "      <div>\n",
              "<style scoped>\n",
              "    .dataframe tbody tr th:only-of-type {\n",
              "        vertical-align: middle;\n",
              "    }\n",
              "\n",
              "    .dataframe tbody tr th {\n",
              "        vertical-align: top;\n",
              "    }\n",
              "\n",
              "    .dataframe thead th {\n",
              "        text-align: right;\n",
              "    }\n",
              "</style>\n",
              "<table border=\"1\" class=\"dataframe\">\n",
              "  <thead>\n",
              "    <tr style=\"text-align: right;\">\n",
              "      <th></th>\n",
              "      <th>Algorithm</th>\n",
              "      <th>Accuracy</th>\n",
              "      <th>Precision</th>\n",
              "      <th>Recall</th>\n",
              "      <th>F1</th>\n",
              "    </tr>\n",
              "  </thead>\n",
              "  <tbody>\n",
              "    <tr>\n",
              "      <th>0</th>\n",
              "      <td>Logistec Regression</td>\n",
              "      <td>0.516</td>\n",
              "      <td>0.444</td>\n",
              "      <td>0.623</td>\n",
              "      <td>0.516</td>\n",
              "    </tr>\n",
              "    <tr>\n",
              "      <th>1</th>\n",
              "      <td>Decision Tree</td>\n",
              "      <td>0.587</td>\n",
              "      <td>0.505</td>\n",
              "      <td>0.623</td>\n",
              "      <td>0.585</td>\n",
              "    </tr>\n",
              "    <tr>\n",
              "      <th>2</th>\n",
              "      <td>Naive Bayes</td>\n",
              "      <td>0.596</td>\n",
              "      <td>0.525</td>\n",
              "      <td>0.364</td>\n",
              "      <td>0.559</td>\n",
              "    </tr>\n",
              "    <tr>\n",
              "      <th>3</th>\n",
              "      <td>Neighborhood Classifier</td>\n",
              "      <td>0.576</td>\n",
              "      <td>0.495</td>\n",
              "      <td>0.617</td>\n",
              "      <td>0.575</td>\n",
              "    </tr>\n",
              "    <tr>\n",
              "      <th>4</th>\n",
              "      <td>SVC</td>\n",
              "      <td>0.626</td>\n",
              "      <td>0.569</td>\n",
              "      <td>0.436</td>\n",
              "      <td>0.599</td>\n",
              "    </tr>\n",
              "    <tr>\n",
              "      <th>5</th>\n",
              "      <td>Random Forest</td>\n",
              "      <td>0.581</td>\n",
              "      <td>0.500</td>\n",
              "      <td>0.604</td>\n",
              "      <td>0.579</td>\n",
              "    </tr>\n",
              "  </tbody>\n",
              "</table>\n",
              "</div>\n",
              "      <button class=\"colab-df-convert\" onclick=\"convertToInteractive('df-3a904655-887b-49d2-9dfb-89eee0765c9c')\"\n",
              "              title=\"Convert this dataframe to an interactive table.\"\n",
              "              style=\"display:none;\">\n",
              "        \n",
              "  <svg xmlns=\"http://www.w3.org/2000/svg\" height=\"24px\"viewBox=\"0 0 24 24\"\n",
              "       width=\"24px\">\n",
              "    <path d=\"M0 0h24v24H0V0z\" fill=\"none\"/>\n",
              "    <path d=\"M18.56 5.44l.94 2.06.94-2.06 2.06-.94-2.06-.94-.94-2.06-.94 2.06-2.06.94zm-11 1L8.5 8.5l.94-2.06 2.06-.94-2.06-.94L8.5 2.5l-.94 2.06-2.06.94zm10 10l.94 2.06.94-2.06 2.06-.94-2.06-.94-.94-2.06-.94 2.06-2.06.94z\"/><path d=\"M17.41 7.96l-1.37-1.37c-.4-.4-.92-.59-1.43-.59-.52 0-1.04.2-1.43.59L10.3 9.45l-7.72 7.72c-.78.78-.78 2.05 0 2.83L4 21.41c.39.39.9.59 1.41.59.51 0 1.02-.2 1.41-.59l7.78-7.78 2.81-2.81c.8-.78.8-2.07 0-2.86zM5.41 20L4 18.59l7.72-7.72 1.47 1.35L5.41 20z\"/>\n",
              "  </svg>\n",
              "      </button>\n",
              "      \n",
              "  <style>\n",
              "    .colab-df-container {\n",
              "      display:flex;\n",
              "      flex-wrap:wrap;\n",
              "      gap: 12px;\n",
              "    }\n",
              "\n",
              "    .colab-df-convert {\n",
              "      background-color: #E8F0FE;\n",
              "      border: none;\n",
              "      border-radius: 50%;\n",
              "      cursor: pointer;\n",
              "      display: none;\n",
              "      fill: #1967D2;\n",
              "      height: 32px;\n",
              "      padding: 0 0 0 0;\n",
              "      width: 32px;\n",
              "    }\n",
              "\n",
              "    .colab-df-convert:hover {\n",
              "      background-color: #E2EBFA;\n",
              "      box-shadow: 0px 1px 2px rgba(60, 64, 67, 0.3), 0px 1px 3px 1px rgba(60, 64, 67, 0.15);\n",
              "      fill: #174EA6;\n",
              "    }\n",
              "\n",
              "    [theme=dark] .colab-df-convert {\n",
              "      background-color: #3B4455;\n",
              "      fill: #D2E3FC;\n",
              "    }\n",
              "\n",
              "    [theme=dark] .colab-df-convert:hover {\n",
              "      background-color: #434B5C;\n",
              "      box-shadow: 0px 1px 3px 1px rgba(0, 0, 0, 0.15);\n",
              "      filter: drop-shadow(0px 1px 2px rgba(0, 0, 0, 0.3));\n",
              "      fill: #FFFFFF;\n",
              "    }\n",
              "  </style>\n",
              "\n",
              "      <script>\n",
              "        const buttonEl =\n",
              "          document.querySelector('#df-3a904655-887b-49d2-9dfb-89eee0765c9c button.colab-df-convert');\n",
              "        buttonEl.style.display =\n",
              "          google.colab.kernel.accessAllowed ? 'block' : 'none';\n",
              "\n",
              "        async function convertToInteractive(key) {\n",
              "          const element = document.querySelector('#df-3a904655-887b-49d2-9dfb-89eee0765c9c');\n",
              "          const dataTable =\n",
              "            await google.colab.kernel.invokeFunction('convertToInteractive',\n",
              "                                                     [key], {});\n",
              "          if (!dataTable) return;\n",
              "\n",
              "          const docLinkHtml = 'Like what you see? Visit the ' +\n",
              "            '<a target=\"_blank\" href=https://colab.research.google.com/notebooks/data_table.ipynb>data table notebook</a>'\n",
              "            + ' to learn more about interactive tables.';\n",
              "          element.innerHTML = '';\n",
              "          dataTable['output_type'] = 'display_data';\n",
              "          await google.colab.output.renderOutput(dataTable, element);\n",
              "          const docLink = document.createElement('div');\n",
              "          docLink.innerHTML = docLinkHtml;\n",
              "          element.appendChild(docLink);\n",
              "        }\n",
              "      </script>\n",
              "    </div>\n",
              "  </div>\n",
              "  "
            ]
          },
          "metadata": {},
          "execution_count": 904
        }
      ]
    }
  ],
  "metadata": {
    "colab": {
      "provenance": [],
      "mount_file_id": "1jNO4lv0qGPmepoEbMeDLM_j4CaBqFcq3",
      "authorship_tag": "ABX9TyMqrlFVCmbO3SIe9gB3iB+D",
      "include_colab_link": true
    },
    "kernelspec": {
      "display_name": "Python 3",
      "name": "python3"
    },
    "language_info": {
      "name": "python"
    }
  },
  "nbformat": 4,
  "nbformat_minor": 0
}